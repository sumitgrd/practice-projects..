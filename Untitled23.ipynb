{
 "cells": [
  {
   "cell_type": "markdown",
   "id": "298bc089",
   "metadata": {},
   "source": [
    "# Red Wine Quality Prediction Project"
   ]
  },
  {
   "cell_type": "markdown",
   "id": "67c2c50b",
   "metadata": {},
   "source": [
    "Project Description\n",
    "The dataset is related to red and white variants of the Portuguese \"Vinho Verde\" wine. Due to privacy and logistic issues, only physicochemical (inputs) and sensory (the output) variables are available (e.g. there is no data about grape types, wine brand, wine selling price, etc.).\n",
    "\n",
    "This dataset can be viewed as classification task. The classes are ordered and not balanced (e.g. there are many more normal wines than excellent or poor ones). Also, we are not sure if all input variables are relevant. So it could be interesting to test feature selection methods.\n",
    "Attribute Information\n",
    "Input variables (based on physicochemical tests):\n",
    "1 - fixed acidity\n",
    "2 - volatile acidity\n",
    "3 - citric acid\n",
    "4 - residual sugar\n",
    "5 - chlorides\n",
    "6 - free sulfur dioxide\n",
    "7 - total sulfur dioxide\n",
    "8 - density\n",
    "9 - pH\n",
    "10 - sulphates\n",
    "11 - alcohol\n",
    "Output variable (based on sensory data):\n",
    "12 - quality (score between 0 and 10)\n",
    "What might be an interesting thing to do, is to set an arbitrary cutoff for your dependent variable (wine quality) at e.g. 7 or higher getting classified as 'good/1' and the remainder as 'not good/0'.\n",
    "This allows you to practice with hyper parameter tuning on e.g. decision tree algorithms looking at the ROC curve and the AUC value.\n",
    "You need to build a classification model. \n",
    "Inspiration\n",
    "Use machine learning to determine which physiochemical properties make a wine 'good'!\n",
    "\n",
    "Dataset Link-\n",
    "https://github.com/FlipRoboTechnologies/ML-Datasets/blob/main/Red%20Wine/winequality-red.csv\n"
   ]
  },
  {
   "cell_type": "code",
   "execution_count": null,
   "id": "1a56cc12",
   "metadata": {},
   "outputs": [],
   "source": [
    "# importing liabraries \n",
    "\n",
    "import pandas as pd \n",
    "import numpy as np \n",
    "import matplotlib.pyplot as plt \n",
    "import seaborn as sns \n",
    "\n",
    "from sklearn.preprocessing import StandardScaler \n",
    "from sklearn.model_selection import train_test_split\n",
    "\n",
    "\n",
    "import warnings\n",
    "warnings.filterwarnings(\"ignore\")"
   ]
  },
  {
   "cell_type": "code",
   "execution_count": null,
   "id": "40e15252",
   "metadata": {},
   "outputs": [],
   "source": [
    "df=pd.read_csv('winequality-red.csv')"
   ]
  },
  {
   "cell_type": "code",
   "execution_count": null,
   "id": "eef12c28",
   "metadata": {},
   "outputs": [],
   "source": [
    "# checking first five rows of the dataset\n",
    "df.head()"
   ]
  },
  {
   "cell_type": "code",
   "execution_count": null,
   "id": "806c6a3f",
   "metadata": {},
   "outputs": [],
   "source": [
    "# number of samples in each dataset\n",
    "# number of columns in each dataset\n",
    "red.shape, white.shape"
   ]
  },
  {
   "cell_type": "code",
   "execution_count": null,
   "id": "e06a11c0",
   "metadata": {},
   "outputs": [],
   "source": [
    "# features with missing values\n",
    "red.info(), white.info()"
   ]
  },
  {
   "cell_type": "code",
   "execution_count": null,
   "id": "7fd1a4a2",
   "metadata": {},
   "outputs": [],
   "source": [
    "# duplicate rows in the white wine dataset\n",
    "white.duplicated().sum()"
   ]
  },
  {
   "cell_type": "code",
   "execution_count": null,
   "id": "9e98311f",
   "metadata": {},
   "outputs": [],
   "source": [
    "# number of unique values for quality in each dataset\n",
    "red['quality'].nunique(), white['quality'].nunique()"
   ]
  },
  {
   "cell_type": "code",
   "execution_count": null,
   "id": "a8aab48c",
   "metadata": {},
   "outputs": [],
   "source": [
    "# mean density of the red wine dataset\n",
    "red['density'].mean()"
   ]
  },
  {
   "cell_type": "markdown",
   "id": "6386fe39",
   "metadata": {},
   "source": [
    "Create Color Columns"
   ]
  },
  {
   "cell_type": "code",
   "execution_count": null,
   "id": "d9e00a80",
   "metadata": {},
   "outputs": [],
   "source": [
    "# create color array for red dataframe\n",
    "color_red = np.repeat('red',red.shape[0])\n",
    "\n",
    "# create color array for white dataframe\n",
    "color_white = np.repeat('white',white.shape[0])"
   ]
  },
  {
   "cell_type": "code",
   "execution_count": null,
   "id": "dead807b",
   "metadata": {},
   "outputs": [],
   "source": [
    "# add red array to red df\n",
    "red['color'] = color_red\n",
    "red.head()"
   ]
  },
  {
   "cell_type": "code",
   "execution_count": null,
   "id": "802be841",
   "metadata": {},
   "outputs": [],
   "source": [
    "# add white array to white df\n",
    "white['color'] = color_white\n",
    "white.head()"
   ]
  },
  {
   "cell_type": "code",
   "execution_count": null,
   "id": "47f9e64e",
   "metadata": {},
   "outputs": [],
   "source": [
    "# rename column\n",
    "red.rename(columns={'total_sulfur-dioxide':'total_sulfur_dioxide'}, inplace=True)"
   ]
  },
  {
   "cell_type": "code",
   "execution_count": null,
   "id": "e79dc08b",
   "metadata": {},
   "outputs": [],
   "source": [
    "# append dataframes\n",
    "wine_df = red.append(white)\n",
    "\n",
    "# view dataframe to check for success\n",
    "wine_df.head()"
   ]
  },
  {
   "cell_type": "markdown",
   "id": "7a1a9a70",
   "metadata": {},
   "source": [
    "Question 1\n",
    "Based on histograms of columns in this dataset, which of the following feature variables appear skewed to the right?\n",
    "\n",
    "Fixed Acidity\n",
    "Total Sulfur Dioxide\n",
    "pH\n",
    "Alcohol"
   ]
  },
  {
   "cell_type": "code",
   "execution_count": null,
   "id": "96ba4bab",
   "metadata": {},
   "outputs": [],
   "source": [
    " #Fixed Acidity\n",
    "wine_df['fixed_acidity'].hist();"
   ]
  },
  {
   "cell_type": "code",
   "execution_count": null,
   "id": "c17665ec",
   "metadata": {},
   "outputs": [],
   "source": [
    "# Total Sulfur Dioxide\n",
    "wine_df['total_sulfur_dioxide'].hist();"
   ]
  },
  {
   "cell_type": "markdown",
   "id": "398caa05",
   "metadata": {},
   "source": [
    "# Medical Cost Personal Insurance Project"
   ]
  },
  {
   "cell_type": "markdown",
   "id": "83d87ae2",
   "metadata": {},
   "source": [
    "Project Description\n",
    "Health insurance is a type of insurance that covers medical expenses that arise due to an illness. These expenses could be related to hospitalisation costs, cost of medicines or doctor consultation fees. The main purpose of medical insurance is to receive the best medical care without any strain on your finances. Health insurance plans offer protection against high medical costs. It covers hospitalization expenses, day care procedures, domiciliary expenses, and ambulance charges, besides many others. Based on certain input features such as age , bmi,,no of dependents ,smoker ,region  medical insurance is calculated .\n",
    "Columns                                            \n",
    "•\tage: age of primary beneficiary\n",
    "•\tsex: insurance contractor gender, female, male\n",
    "•\tbmi: Body mass index, providing an understanding of body, weights that are relatively high or low relative to height, objective index of body weight (kg / m ^ 2) using the ratio of height to weight, ideally 18.5 to 24.9.\n",
    "•\tchildren: Number of children covered by health insurance / Number of dependents\n",
    "•\tsmoker: Smoking\n",
    "•\tregion: the beneficiary's residential area in the US, northeast, southeast, southwest, northwest.\n",
    "•\tcharges: Individual medical costs billed by health insurance\n",
    "\n",
    "Predict : Can you accurately predict insurance costs?\n",
    "\n",
    "Dataset Link-\n",
    "https://github.com/FlipRoboTechnologies/ML-Datasets/blob/main/Medical%20Cost%20Insurance/medical_cost_insurance.csv\n"
   ]
  },
  {
   "cell_type": "code",
   "execution_count": null,
   "id": "2a16f988",
   "metadata": {},
   "outputs": [],
   "source": [
    "import pandas as pd\n",
    "import numpy as np\n",
    "from sklearn.model_selection import train_test_split\n",
    "from sklearn.linear_model import LinearRegression\n",
    "from sklearn.metrics import mean_absolute_error, mean_squared_error, r2_score\n",
    "import matplotlib.pyplot as plt"
   ]
  },
  {
   "cell_type": "markdown",
   "id": "3c144278",
   "metadata": {},
   "source": [
    "Data Collection & Analysis "
   ]
  },
  {
   "cell_type": "code",
   "execution_count": null,
   "id": "491a0d49",
   "metadata": {},
   "outputs": [],
   "source": [
    "1 # loading the data from csv file to a Pandas DataFrame\n",
    "2 insurance_dataset = pd.read_csv('/medical_cost_insurance.csv')"
   ]
  },
  {
   "cell_type": "code",
   "execution_count": null,
   "id": "e9db2b03",
   "metadata": {},
   "outputs": [],
   "source": [
    "1 # first 5 rows of the dataframe \n",
    "2 insurance_dataset.head()"
   ]
  },
  {
   "cell_type": "code",
   "execution_count": null,
   "id": "ba85262b",
   "metadata": {},
   "outputs": [],
   "source": [
    "1 # number of rows and columns \n",
    "2 insurance_dataset.shape "
   ]
  },
  {
   "cell_type": "code",
   "execution_count": null,
   "id": "394c94dc",
   "metadata": {},
   "outputs": [],
   "source": [
    "1 # getting some informations about the dataset \n",
    "2 insurance_dataset.info()"
   ]
  },
  {
   "cell_type": "markdown",
   "id": "1e6fdf83",
   "metadata": {},
   "source": [
    "categorical features:\n",
    "  sex\n",
    "  smoker \n",
    "  region   "
   ]
  },
  {
   "cell_type": "code",
   "execution_count": null,
   "id": "b9e724ce",
   "metadata": {},
   "outputs": [],
   "source": [
    "1 # checking the missing values \n",
    "2 insurnce_dataset.isnull().sum()"
   ]
  },
  {
   "cell_type": "markdown",
   "id": "690c13d9",
   "metadata": {},
   "source": [
    "Data Analysis "
   ]
  },
  {
   "cell_type": "code",
   "execution_count": null,
   "id": "f720cfb1",
   "metadata": {},
   "outputs": [],
   "source": [
    "1 # statistical Measures of the dataset \n",
    "2 insurance_dataset.dscribe()"
   ]
  },
  {
   "cell_type": "code",
   "execution_count": null,
   "id": "762f63fa",
   "metadata": {},
   "outputs": [],
   "source": [
    "1 # distribiution of age value \n",
    "2 sns.set()\n",
    "3 plt.figure(figsize=(6,6))\n",
    "4 sns.distplot(insurance_dataset['age'])\n",
    "5 plt.title('Age Distribution')\n",
    "6 plt.show()"
   ]
  },
  {
   "cell_type": "code",
   "execution_count": null,
   "id": "0d0c341f",
   "metadata": {},
   "outputs": [],
   "source": [
    "1 # Gender Column\n",
    "2 sns.countplot(x='sex', data=insurance_dataset)\n",
    "3 plt.title('Sex Distribution')\n",
    "4 plt.show()"
   ]
  },
  {
   "cell_type": "code",
   "execution_count": null,
   "id": "c80afd24",
   "metadata": {},
   "outputs": [],
   "source": [
    "1 # bmi disrtibution \n",
    "2 plt.figure \n",
    "3 sns.displot(inurance_dataset['bmi'])\n",
    "4 plt.title('BMI Distribution')\n",
    "5 plt.show()"
   ]
  },
  {
   "cell_type": "code",
   "execution_count": null,
   "id": "16f4cb75",
   "metadata": {},
   "outputs": [],
   "source": [
    "1 # children column \n",
    "2 plt.figure(figsize=(6,6))\n",
    "3 sns.countplot(x='Children',data=insurance_dataset)\n",
    "4 plt.title('Children')\n",
    "5 plt.show()\n"
   ]
  },
  {
   "cell_type": "code",
   "execution_count": null,
   "id": "ec6a3847",
   "metadata": {},
   "outputs": [],
   "source": [
    "1 # smoker column \n",
    "2 plt.figure(figsize=(6,6))\n",
    "3 sns.countplot(x='smoker' data=insurance_dataset)\n",
    "4 plt.title('smoker')\n",
    "5 plt.show()"
   ]
  },
  {
   "cell_type": "code",
   "execution_count": null,
   "id": "fcc50bce",
   "metadata": {},
   "outputs": [],
   "source": [
    "1 # region column \n",
    "2 plt.figure(figsize=(6,6))\n",
    "3 sns.countplot(x='region' data=insurance_dataset)\n",
    "4 plt.title('region')\n",
    "5 plt.show()"
   ]
  },
  {
   "cell_type": "code",
   "execution_count": null,
   "id": "1f384ebf",
   "metadata": {},
   "outputs": [],
   "source": [
    "1 # distribution of charge valiue  \n",
    "2 plt.figure(figsize=(6,6))\n",
    "3 sns.countplot(insurance_dataset['charges']\n",
    "4 plt.title('Charge Distribution')\n",
    "5 plt.show()"
   ]
  },
  {
   "cell_type": "code",
   "execution_count": null,
   "id": "5042b989",
   "metadata": {},
   "outputs": [],
   "source": []
  }
 ],
 "metadata": {
  "kernelspec": {
   "display_name": "Python 3 (ipykernel)",
   "language": "python",
   "name": "python3"
  },
  "language_info": {
   "codemirror_mode": {
    "name": "ipython",
    "version": 3
   },
   "file_extension": ".py",
   "mimetype": "text/x-python",
   "name": "python",
   "nbconvert_exporter": "python",
   "pygments_lexer": "ipython3",
   "version": "3.11.4"
  }
 },
 "nbformat": 4,
 "nbformat_minor": 5
}
